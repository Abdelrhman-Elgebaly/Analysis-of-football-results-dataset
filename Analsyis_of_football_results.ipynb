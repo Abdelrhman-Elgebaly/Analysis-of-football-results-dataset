{
  "nbformat": 4,
  "nbformat_minor": 0,
  "metadata": {
    "kernelspec": {
      "display_name": "Python 3",
      "language": "python",
      "name": "python3"
    },
    "language_info": {
      "codemirror_mode": {
        "name": "ipython",
        "version": 3
      },
      "file_extension": ".py",
      "mimetype": "text/x-python",
      "name": "python",
      "nbconvert_exporter": "python",
      "pygments_lexer": "ipython3",
      "version": "3.9.0"
    },
    "colab": {
      "name": "Analsyis of football results.ipynb",
      "provenance": [],
      "collapsed_sections": []
    }
  },
  "cells": [
    {
      "cell_type": "markdown",
      "metadata": {
        "id": "T_cK_3WF7l7e"
      },
      "source": [
        "# Analysis of International Fottball Results\n",
        "**First** Exploring Data **Second** answes 8 questions \n",
        " \n",
        "\n"
      ]
    },
    {
      "cell_type": "code",
      "metadata": {
        "id": "1HMCPPNY7l7j"
      },
      "source": [
        "pip install scikit-learn"
      ],
      "execution_count": null,
      "outputs": []
    },
    {
      "cell_type": "code",
      "metadata": {
        "id": "3qnVKLHu7l7k"
      },
      "source": [
        "import pandas as pd\n",
        "import matplotlib.pyplot as plt\n",
        "from sklearn.preprocessing import StandardScaler\n",
        "from mpl_toolkits.mplot3d import Axes3D\n",
        "from sklearn.preprocessing import StandardScaler\n",
        "import numpy as np \n",
        "import os \n",
        "\n",
        "plt.style.use('ggplot')\n",
        "df = pd.read_csv('results.csv')"
      ],
      "execution_count": null,
      "outputs": []
    },
    {
      "cell_type": "markdown",
      "metadata": {
        "id": "B_u76KdQ7l7m"
      },
      "source": [
        "# Exoloring Data set\n"
      ]
    },
    {
      "cell_type": "code",
      "metadata": {
        "id": "7TmC87XP7l7m",
        "outputId": "6a7f6428-efce-4a77-94ff-dd428e16968b"
      },
      "source": [
        "\n",
        "df.head()\n"
      ],
      "execution_count": null,
      "outputs": [
        {
          "output_type": "execute_result",
          "data": {
            "text/html": [
              "<div>\n",
              "<style scoped>\n",
              "    .dataframe tbody tr th:only-of-type {\n",
              "        vertical-align: middle;\n",
              "    }\n",
              "\n",
              "    .dataframe tbody tr th {\n",
              "        vertical-align: top;\n",
              "    }\n",
              "\n",
              "    .dataframe thead th {\n",
              "        text-align: right;\n",
              "    }\n",
              "</style>\n",
              "<table border=\"1\" class=\"dataframe\">\n",
              "  <thead>\n",
              "    <tr style=\"text-align: right;\">\n",
              "      <th></th>\n",
              "      <th>date</th>\n",
              "      <th>home_team</th>\n",
              "      <th>away_team</th>\n",
              "      <th>home_score</th>\n",
              "      <th>away_score</th>\n",
              "      <th>tournament</th>\n",
              "      <th>city</th>\n",
              "      <th>country</th>\n",
              "      <th>neutral</th>\n",
              "    </tr>\n",
              "  </thead>\n",
              "  <tbody>\n",
              "    <tr>\n",
              "      <th>0</th>\n",
              "      <td>1872-11-30</td>\n",
              "      <td>Scotland</td>\n",
              "      <td>England</td>\n",
              "      <td>0</td>\n",
              "      <td>0</td>\n",
              "      <td>Friendly</td>\n",
              "      <td>Glasgow</td>\n",
              "      <td>Scotland</td>\n",
              "      <td>False</td>\n",
              "    </tr>\n",
              "    <tr>\n",
              "      <th>1</th>\n",
              "      <td>1873-03-08</td>\n",
              "      <td>England</td>\n",
              "      <td>Scotland</td>\n",
              "      <td>4</td>\n",
              "      <td>2</td>\n",
              "      <td>Friendly</td>\n",
              "      <td>London</td>\n",
              "      <td>England</td>\n",
              "      <td>False</td>\n",
              "    </tr>\n",
              "    <tr>\n",
              "      <th>2</th>\n",
              "      <td>1874-03-07</td>\n",
              "      <td>Scotland</td>\n",
              "      <td>England</td>\n",
              "      <td>2</td>\n",
              "      <td>1</td>\n",
              "      <td>Friendly</td>\n",
              "      <td>Glasgow</td>\n",
              "      <td>Scotland</td>\n",
              "      <td>False</td>\n",
              "    </tr>\n",
              "    <tr>\n",
              "      <th>3</th>\n",
              "      <td>1875-03-06</td>\n",
              "      <td>England</td>\n",
              "      <td>Scotland</td>\n",
              "      <td>2</td>\n",
              "      <td>2</td>\n",
              "      <td>Friendly</td>\n",
              "      <td>London</td>\n",
              "      <td>England</td>\n",
              "      <td>False</td>\n",
              "    </tr>\n",
              "    <tr>\n",
              "      <th>4</th>\n",
              "      <td>1876-03-04</td>\n",
              "      <td>Scotland</td>\n",
              "      <td>England</td>\n",
              "      <td>3</td>\n",
              "      <td>0</td>\n",
              "      <td>Friendly</td>\n",
              "      <td>Glasgow</td>\n",
              "      <td>Scotland</td>\n",
              "      <td>False</td>\n",
              "    </tr>\n",
              "  </tbody>\n",
              "</table>\n",
              "</div>"
            ],
            "text/plain": [
              "         date home_team away_team  home_score  away_score tournament     city  \\\n",
              "0  1872-11-30  Scotland   England           0           0   Friendly  Glasgow   \n",
              "1  1873-03-08   England  Scotland           4           2   Friendly   London   \n",
              "2  1874-03-07  Scotland   England           2           1   Friendly  Glasgow   \n",
              "3  1875-03-06   England  Scotland           2           2   Friendly   London   \n",
              "4  1876-03-04  Scotland   England           3           0   Friendly  Glasgow   \n",
              "\n",
              "    country  neutral  \n",
              "0  Scotland    False  \n",
              "1   England    False  \n",
              "2  Scotland    False  \n",
              "3   England    False  \n",
              "4  Scotland    False  "
            ]
          },
          "metadata": {
            "tags": []
          },
          "execution_count": 3
        }
      ]
    },
    {
      "cell_type": "code",
      "metadata": {
        "id": "QqQZu5p27l7o",
        "outputId": "32e22a0d-a75a-4091-dc9f-23c31a1573d6"
      },
      "source": [
        "\n",
        "##number of rows and colums \n",
        "df.shape\n"
      ],
      "execution_count": null,
      "outputs": [
        {
          "output_type": "execute_result",
          "data": {
            "text/plain": [
              "(41846, 9)"
            ]
          },
          "metadata": {
            "tags": []
          },
          "execution_count": 37
        }
      ]
    },
    {
      "cell_type": "code",
      "metadata": {
        "id": "VN0kQopS7l7p",
        "outputId": "41be8077-8f5f-4b5d-f032-1957d9a31683"
      },
      "source": [
        "df.describe()"
      ],
      "execution_count": null,
      "outputs": [
        {
          "output_type": "execute_result",
          "data": {
            "text/html": [
              "<div>\n",
              "<style scoped>\n",
              "    .dataframe tbody tr th:only-of-type {\n",
              "        vertical-align: middle;\n",
              "    }\n",
              "\n",
              "    .dataframe tbody tr th {\n",
              "        vertical-align: top;\n",
              "    }\n",
              "\n",
              "    .dataframe thead th {\n",
              "        text-align: right;\n",
              "    }\n",
              "</style>\n",
              "<table border=\"1\" class=\"dataframe\">\n",
              "  <thead>\n",
              "    <tr style=\"text-align: right;\">\n",
              "      <th></th>\n",
              "      <th>home_score</th>\n",
              "      <th>away_score</th>\n",
              "      <th>year</th>\n",
              "    </tr>\n",
              "  </thead>\n",
              "  <tbody>\n",
              "    <tr>\n",
              "      <th>count</th>\n",
              "      <td>41846.000000</td>\n",
              "      <td>41846.000000</td>\n",
              "      <td>41846.000000</td>\n",
              "    </tr>\n",
              "    <tr>\n",
              "      <th>mean</th>\n",
              "      <td>1.743703</td>\n",
              "      <td>1.186374</td>\n",
              "      <td>1990.625580</td>\n",
              "    </tr>\n",
              "    <tr>\n",
              "      <th>std</th>\n",
              "      <td>1.752224</td>\n",
              "      <td>1.403199</td>\n",
              "      <td>24.317029</td>\n",
              "    </tr>\n",
              "    <tr>\n",
              "      <th>min</th>\n",
              "      <td>0.000000</td>\n",
              "      <td>0.000000</td>\n",
              "      <td>1872.000000</td>\n",
              "    </tr>\n",
              "    <tr>\n",
              "      <th>25%</th>\n",
              "      <td>1.000000</td>\n",
              "      <td>0.000000</td>\n",
              "      <td>1978.000000</td>\n",
              "    </tr>\n",
              "    <tr>\n",
              "      <th>50%</th>\n",
              "      <td>1.000000</td>\n",
              "      <td>1.000000</td>\n",
              "      <td>1997.000000</td>\n",
              "    </tr>\n",
              "    <tr>\n",
              "      <th>75%</th>\n",
              "      <td>2.000000</td>\n",
              "      <td>2.000000</td>\n",
              "      <td>2009.000000</td>\n",
              "    </tr>\n",
              "    <tr>\n",
              "      <th>max</th>\n",
              "      <td>31.000000</td>\n",
              "      <td>21.000000</td>\n",
              "      <td>2020.000000</td>\n",
              "    </tr>\n",
              "  </tbody>\n",
              "</table>\n",
              "</div>"
            ],
            "text/plain": [
              "         home_score    away_score          year\n",
              "count  41846.000000  41846.000000  41846.000000\n",
              "mean       1.743703      1.186374   1990.625580\n",
              "std        1.752224      1.403199     24.317029\n",
              "min        0.000000      0.000000   1872.000000\n",
              "25%        1.000000      0.000000   1978.000000\n",
              "50%        1.000000      1.000000   1997.000000\n",
              "75%        2.000000      2.000000   2009.000000\n",
              "max       31.000000     21.000000   2020.000000"
            ]
          },
          "metadata": {
            "tags": []
          },
          "execution_count": 31
        }
      ]
    },
    {
      "cell_type": "markdown",
      "metadata": {
        "id": "WH5a_y1g7l72"
      },
      "source": [
        "# Analysis and Answer the Questions\n"
      ]
    },
    {
      "cell_type": "code",
      "metadata": {
        "id": "2d4TqL1B7l75"
      },
      "source": [
        "##fIRST\n",
        "# Count games around years \n",
        "df['year']=pd.DatetimeIndex(df['date']).year\n",
        "year=df['year'].value_counts().sort_index()\n",
        "print(year)\n",
        "# Average Goals Scores Around years\n",
        "df['Total Goals ']=df['home_score']+df['away_score']\n",
        "average = df.groupby(['year']).mean()\n",
        "\n",
        "## Plot average total gopals around years\n",
        "fig, ax1 = plt.subplots()\n",
        "ax1.plot(average.index,average['Total Goals '],color = 'blue')\n",
        "ax1.set_ylabel('Average Goals Pere Game')\n",
        "\n",
        "ax2=ax1.twinx()\n",
        "ax2.plot(year)\n",
        "ax2.set_ylabel('Number of Games')\n",
        "plt.tight_layout()\n",
        "plt.title('International Football Development')\n",
        "plt.show()\n"
      ],
      "execution_count": null,
      "outputs": []
    },
    {
      "cell_type": "code",
      "metadata": {
        "id": "Md0ecac77l78"
      },
      "source": [
        "##Second\n",
        "# The effect of playing at home"
      ],
      "execution_count": null,
      "outputs": []
    },
    {
      "cell_type": "code",
      "metadata": {
        "id": "mjQxsX2G7l7-",
        "outputId": "345fc35d-3a78-425e-a8f5-2e3376d23e70"
      },
      "source": [
        "con=[(df['home_score']==df['away_score']),(df['home_score']>df['away_score']),(df['home_score']<df['away_score'])]\n",
        "val=[0,1,2]\n",
        "val2=['no_win',df['home_team'],df['away_team']]\n",
        "df['result']=np.select(con,val)\n",
        "df['who_win']=np.select(con,val2)\n",
        "df.head()"
      ],
      "execution_count": null,
      "outputs": [
        {
          "output_type": "execute_result",
          "data": {
            "text/html": [
              "<div>\n",
              "<style scoped>\n",
              "    .dataframe tbody tr th:only-of-type {\n",
              "        vertical-align: middle;\n",
              "    }\n",
              "\n",
              "    .dataframe tbody tr th {\n",
              "        vertical-align: top;\n",
              "    }\n",
              "\n",
              "    .dataframe thead th {\n",
              "        text-align: right;\n",
              "    }\n",
              "</style>\n",
              "<table border=\"1\" class=\"dataframe\">\n",
              "  <thead>\n",
              "    <tr style=\"text-align: right;\">\n",
              "      <th></th>\n",
              "      <th>date</th>\n",
              "      <th>home_team</th>\n",
              "      <th>away_team</th>\n",
              "      <th>home_score</th>\n",
              "      <th>away_score</th>\n",
              "      <th>tournament</th>\n",
              "      <th>city</th>\n",
              "      <th>country</th>\n",
              "      <th>neutral</th>\n",
              "      <th>year</th>\n",
              "      <th>Total Goals</th>\n",
              "      <th>result</th>\n",
              "      <th>who_win</th>\n",
              "    </tr>\n",
              "  </thead>\n",
              "  <tbody>\n",
              "    <tr>\n",
              "      <th>0</th>\n",
              "      <td>1872-11-30</td>\n",
              "      <td>Scotland</td>\n",
              "      <td>England</td>\n",
              "      <td>0</td>\n",
              "      <td>0</td>\n",
              "      <td>Friendly</td>\n",
              "      <td>Glasgow</td>\n",
              "      <td>Scotland</td>\n",
              "      <td>False</td>\n",
              "      <td>1872</td>\n",
              "      <td>0</td>\n",
              "      <td>0</td>\n",
              "      <td>no_win</td>\n",
              "    </tr>\n",
              "    <tr>\n",
              "      <th>1</th>\n",
              "      <td>1873-03-08</td>\n",
              "      <td>England</td>\n",
              "      <td>Scotland</td>\n",
              "      <td>4</td>\n",
              "      <td>2</td>\n",
              "      <td>Friendly</td>\n",
              "      <td>London</td>\n",
              "      <td>England</td>\n",
              "      <td>False</td>\n",
              "      <td>1873</td>\n",
              "      <td>6</td>\n",
              "      <td>1</td>\n",
              "      <td>England</td>\n",
              "    </tr>\n",
              "    <tr>\n",
              "      <th>2</th>\n",
              "      <td>1874-03-07</td>\n",
              "      <td>Scotland</td>\n",
              "      <td>England</td>\n",
              "      <td>2</td>\n",
              "      <td>1</td>\n",
              "      <td>Friendly</td>\n",
              "      <td>Glasgow</td>\n",
              "      <td>Scotland</td>\n",
              "      <td>False</td>\n",
              "      <td>1874</td>\n",
              "      <td>3</td>\n",
              "      <td>1</td>\n",
              "      <td>Scotland</td>\n",
              "    </tr>\n",
              "    <tr>\n",
              "      <th>3</th>\n",
              "      <td>1875-03-06</td>\n",
              "      <td>England</td>\n",
              "      <td>Scotland</td>\n",
              "      <td>2</td>\n",
              "      <td>2</td>\n",
              "      <td>Friendly</td>\n",
              "      <td>London</td>\n",
              "      <td>England</td>\n",
              "      <td>False</td>\n",
              "      <td>1875</td>\n",
              "      <td>4</td>\n",
              "      <td>0</td>\n",
              "      <td>no_win</td>\n",
              "    </tr>\n",
              "    <tr>\n",
              "      <th>4</th>\n",
              "      <td>1876-03-04</td>\n",
              "      <td>Scotland</td>\n",
              "      <td>England</td>\n",
              "      <td>3</td>\n",
              "      <td>0</td>\n",
              "      <td>Friendly</td>\n",
              "      <td>Glasgow</td>\n",
              "      <td>Scotland</td>\n",
              "      <td>False</td>\n",
              "      <td>1876</td>\n",
              "      <td>3</td>\n",
              "      <td>1</td>\n",
              "      <td>Scotland</td>\n",
              "    </tr>\n",
              "  </tbody>\n",
              "</table>\n",
              "</div>"
            ],
            "text/plain": [
              "         date home_team away_team  home_score  away_score tournament     city  \\\n",
              "0  1872-11-30  Scotland   England           0           0   Friendly  Glasgow   \n",
              "1  1873-03-08   England  Scotland           4           2   Friendly   London   \n",
              "2  1874-03-07  Scotland   England           2           1   Friendly  Glasgow   \n",
              "3  1875-03-06   England  Scotland           2           2   Friendly   London   \n",
              "4  1876-03-04  Scotland   England           3           0   Friendly  Glasgow   \n",
              "\n",
              "    country  neutral  year  Total Goals   result   who_win  \n",
              "0  Scotland    False  1872             0       0    no_win  \n",
              "1   England    False  1873             6       1   England  \n",
              "2  Scotland    False  1874             3       1  Scotland  \n",
              "3   England    False  1875             4       0    no_win  \n",
              "4  Scotland    False  1876             3       1  Scotland  "
            ]
          },
          "metadata": {
            "tags": []
          },
          "execution_count": 42
        }
      ]
    },
    {
      "cell_type": "code",
      "metadata": {
        "id": "JUP3F-h67l8B",
        "outputId": "a3bea213-fdc9-4c20-9624-eb18608c1870"
      },
      "source": [
        "\n",
        "#home advantage?\n",
        "\n",
        "con=[(df['home_team']==df['who_win']),(df['away_team']==df['who_win'])]\n",
        "val=['home_win','away_win']\n",
        "val2=[1,1]\n",
        "df['home_away_win']=np.select(con,val)\n",
        "df['home_away_win2']=np.select(con,val2)\n",
        "##home advantage \n",
        "data1=df.groupby('home_away_win').count()\n",
        "data1[['who_win']]\n",
        "pcolors = ['lightblue','lightgreen','silver']\n",
        "my_explode = (0, 0.1, 0)\n",
        "plt.pie(data1['who_win'], labels=data1.index, autopct='%1.1f%%', startangle=15, shadow = True, colors=pcolors, explode=my_explode)\n",
        "plt.title('Which teams are wining more?')\n",
        "plt.axis('equal')\n",
        "plt.show()"
      ],
      "execution_count": null,
      "outputs": [
        {
          "output_type": "display_data",
          "data": {
            "image/png": "[encoded data removed]",
            "text/plain": [
              "<Figure size 432x288 with 1 Axes>"
            ]
          },
          "metadata": {
            "tags": []
          }
        }
      ]
    },
    {
      "cell_type": "code",
      "metadata": {
        "id": "zfVs1LxB7l8D",
        "outputId": "a5d12880-93db-49e9-99d5-54b38f78713f"
      },
      "source": [
        "##Third \n",
        "# Type of Match based on tournanment column\n",
        "plt.figure(figsize=(10,8))\n",
        "type=df['tournament'].value_counts()\n",
        "ax1=type[0:6].plot(kind='bar')\n",
        "ax1.set_xlabel('Type of Game',color = 'red')\n",
        "ax1.set_ylabel('Number of Games',color = 'red')\n",
        "plt.xticks(fontsize=12,rotation=20)\n",
        "plt.tight_layout()\n",
        "plt.show()\n"
      ],
      "execution_count": null,
      "outputs": [
        {
          "output_type": "display_data",
          "data": {
            "image/png": "[encoded data removed]",
            "text/plain": [
              "<Figure size 720x576 with 1 Axes>"
            ]
          },
          "metadata": {
            "tags": []
          }
        }
      ]
    },
    {
      "cell_type": "code",
      "metadata": {
        "id": "PmvhmXNA7l8F",
        "outputId": "b7ffe861-6323-4c02-d51b-fabadd7632b6"
      },
      "source": [
        "#fourth \n",
        "##Most number of scores  and in which Country in which year (homw&away)\n",
        "non_nuetral=df[df['neutral']== False]\n",
        "most_home_goals=df.iloc[non_nuetral['home_score'].idxmax()]\n",
        "print('*****Most number of scores in Home***** ' )\n",
        "print(most_home_goals['home_score'])\n",
        "print(most_home_goals['home_team'])\n",
        "most_away_goals=df.iloc[non_nuetral['away_score'].idxmax()]\n",
        "print('*****Most number of scores in away*****')\n",
        "print(most_away_goals['home_score'])\n",
        "print(most_away_goals['home_team'])"
      ],
      "execution_count": null,
      "outputs": [
        {
          "output_type": "stream",
          "text": [
            "*****Most number of scores in Home***** \n",
            "31\n",
            "Australia\n",
            "*****Most number of scores in away*****\n",
            "2\n",
            "Japan\n"
          ],
          "name": "stdout"
        }
      ]
    },
    {
      "cell_type": "code",
      "metadata": {
        "id": "3Z9bvDVv7l8I",
        "outputId": "b6727c35-6c9f-455b-a87f-86e84c1dd743"
      },
      "source": [
        "#5 How many countries have played inernational football games?\n",
        "import numpy as np\n",
        "home = pd.unique(df['home_team'])\n",
        "away = pd.unique(df['away_team'])\n",
        "countries = pd.unique(np.concatenate((home, away)))\n",
        "print(len(countries))\n"
      ],
      "execution_count": null,
      "outputs": [
        {
          "output_type": "stream",
          "text": [
            "313\n"
          ],
          "name": "stdout"
        }
      ]
    },
    {
      "cell_type": "code",
      "metadata": {
        "id": "tEt6auw17l8L",
        "outputId": "3ba89b2e-772e-4c1d-b812-8b22b154ad52"
      },
      "source": [
        "#6 Which country won the most games so far?\n",
        "\n",
        "df['winner'] = np.where(df['home_score'] >\n",
        "df['away_score'], df['home_team'],\n",
        "np.where(df['home_score'] ==\n",
        "df['away_score'],\n",
        "'Draw', df['away_team']))\n",
        "\n",
        "winners = df['winner'].value_counts()\n",
        "ax1 = winners[1:6].plot(kind = 'bar')\n",
        "ax1.set_xlabel('Country')\n",
        "ax1.set_ylabel('Games won')\n",
        "plt.tight_layout()\n",
        "plt.show()\n"
      ],
      "execution_count": null,
      "outputs": [
        {
          "output_type": "display_data",
          "data": {
            "image/png": "[encoded data removed]",
            "text/plain": [
              "<Figure size 432x288 with 1 Axes>"
            ]
          },
          "metadata": {
            "tags": []
          }
        }
      ]
    },
    {
      "cell_type": "code",
      "metadata": {
        "id": "KVcHxiyv7l8N",
        "outputId": "d62054ad-1169-4482-bf52-2884fc5500f5"
      },
      "source": [
        "#7 Which countries conceded the most goals?\n",
        "\n",
        "summary = pd.DataFrame(columns = ['Country', 'Goals scored',\n",
        " 'Goals conceded'])\n",
        "\n",
        "for country in countries:\n",
        "    goals_scored = df.loc[df.home_team == country, 'home_score'].sum()\n",
        "    + df.loc[df.away_team == country, 'away_score'].sum()\n",
        "\n",
        "    goals_conceded = df.loc[df.home_team == country, 'away_score'].sum()\n",
        "    + df.loc[df.away_team == country, 'home_score'].sum()\n",
        "\n",
        "    summary = summary.append({'Country': country,\n",
        "      'Goals scored': goals_scored,\n",
        "     'Goals conceded': goals_conceded},\n",
        "     ignore_index = True)\n",
        "\n",
        "summary = summary.set_index('Country')\n",
        "summary = summary.sort_values(by = ['Goals conceded'], ascending = False)\n",
        "plt.bar(summary.index[0:5], summary['Goals conceded'] [0:5])\n",
        "plt.tight_layout()\n",
        "plt.show()\n",
        "\n"
      ],
      "execution_count": null,
      "outputs": [
        {
          "output_type": "display_data",
          "data": {
            "image/png": "[encoded data removed]",
            "text/plain": [
              "<Figure size 432x288 with 1 Axes>"
            ]
          },
          "metadata": {
            "tags": []
          }
        }
      ]
    },
    {
      "cell_type": "code",
      "metadata": {
        "id": "-5jxeHBO7l8P"
      },
      "source": [
        ""
      ],
      "execution_count": null,
      "outputs": []
    },
    {
      "cell_type": "code",
      "metadata": {
        "id": "BhqMqcwd7l8Q",
        "outputId": "5acfb304-f233-4692-c2cc-0c54179284cf"
      },
      "source": [
        "#8 -how has the number of countries changed \n",
        "df[\"year\"]=pd.to_datetime(df['date']).dt.year\n",
        "data_c=df[['year','country']]\n",
        "data_c = data_c.drop_duplicates()\n",
        "data_c1=data_c.groupby('year').count()\n",
        "\n",
        "plt.plot(data_c1.index, data_c1['country'], color='red', marker='o')\n",
        "plt.title('Year and number of country ', fontsize=14)\n",
        "plt.xlabel('Year', fontsize=14)\n",
        "plt.ylabel('country', fontsize=14)\n",
        "plt.grid(True)\n",
        "plt.show()"
      ],
      "execution_count": null,
      "outputs": [
        {
          "output_type": "display_data",
          "data": {
            "image/png": "[encoded data removed]",
            "text/plain": [
              "<Figure size 432x288 with 1 Axes>"
            ]
          },
          "metadata": {
            "tags": []
          }
        }
      ]
    },
    {
      "cell_type": "code",
      "metadata": {
        "id": "9VzIsBHh7l8R"
      },
      "source": [
        ""
      ],
      "execution_count": null,
      "outputs": []
    }
  ]
}